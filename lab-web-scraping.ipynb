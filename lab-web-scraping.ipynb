{
 "cells": [
  {
   "cell_type": "markdown",
   "id": "7e7a1ab8-2599-417d-9a65-25ef07f3a786",
   "metadata": {
    "id": "7e7a1ab8-2599-417d-9a65-25ef07f3a786"
   },
   "source": [
    "# Lab | Web Scraping"
   ]
  },
  {
   "cell_type": "markdown",
   "id": "ce8882fc-4815-4567-92fa-b4816358ba7d",
   "metadata": {
    "id": "ce8882fc-4815-4567-92fa-b4816358ba7d"
   },
   "source": [
    "Welcome to the \"Books to Scrape\" Web Scraping Adventure Lab!\n",
    "\n",
    "**Objective**\n",
    "\n",
    "In this lab, we will embark on a mission to unearth valuable insights from the data available on Books to Scrape, an online platform showcasing a wide variety of books. As data analyst, you have been tasked with scraping a specific subset of book data from Books to Scrape to assist publishing companies in understanding the landscape of highly-rated books across different genres. Your insights will help shape future book marketing strategies and publishing decisions.\n",
    "\n",
    "**Background**\n",
    "\n",
    "In a world where data has become the new currency, businesses are leveraging big data to make informed decisions that drive success and profitability. The publishing industry, much like others, utilizes data analytics to understand market trends, reader preferences, and the performance of books based on factors such as genre, author, and ratings. Books to Scrape serves as a rich source of such data, offering detailed information about a diverse range of books, making it an ideal platform for extracting insights to aid in informed decision-making within the literary world.\n",
    "\n",
    "**Task**\n",
    "\n",
    "Your task is to create a Python script using BeautifulSoup and pandas to scrape Books to Scrape book data, focusing on book ratings and genres. The script should be able to filter books with ratings above a certain threshold and in specific genres. Additionally, the script should structure the scraped data in a tabular format using pandas for further analysis.\n",
    "\n",
    "**Expected Outcome**\n",
    "\n",
    "A function named `scrape_books` that takes two parameters: `min_rating` and `max_price`. The function should scrape book data from the \"Books to Scrape\" website and return a `pandas` DataFrame with the following columns:\n",
    "\n",
    "**Expected Outcome**\n",
    "\n",
    "- A function named `scrape_books` that takes two parameters: `min_rating` and `max_price`.\n",
    "- The function should return a DataFrame with the following columns:\n",
    "  - **UPC**: The Universal Product Code (UPC) of the book.\n",
    "  - **Title**: The title of the book.\n",
    "  - **Price (£)**: The price of the book in pounds.\n",
    "  - **Rating**: The rating of the book (1-5 stars).\n",
    "  - **Genre**: The genre of the book.\n",
    "  - **Availability**: Whether the book is in stock or not.\n",
    "  - **Description**: A brief description or product description of the book (if available).\n",
    "  \n",
    "You will execute this script to scrape data for books with a minimum rating of `4.0 and above` and a maximum price of `£20`. \n",
    "\n",
    "Remember to experiment with different ratings and prices to ensure your code is versatile and can handle various searches effectively!\n",
    "\n",
    "**Resources**\n",
    "\n",
    "- [Beautiful Soup Documentation](https://www.crummy.com/software/BeautifulSoup/bs4/doc/)\n",
    "- [Pandas Documentation](https://pandas.pydata.org/pandas-docs/stable/index.html)\n",
    "- [Books to Scrape](https://books.toscrape.com/)\n"
   ]
  },
  {
   "cell_type": "markdown",
   "id": "3519921d-5890-445b-9a33-934ed8ee378c",
   "metadata": {
    "id": "3519921d-5890-445b-9a33-934ed8ee378c"
   },
   "source": [
    "**Hint**\n",
    "\n",
    "Your first mission is to familiarize yourself with the **Books to Scrape** website. Navigate to [Books to Scrape](http://books.toscrape.com/) and explore the available books to understand their layout and structure. \n",
    "\n",
    "Next, think about how you can set parameters for your data extraction:\n",
    "\n",
    "- **Minimum Rating**: Focus on books with a rating of 4.0 and above.\n",
    "- **Maximum Price**: Filter for books priced up to £20.\n",
    "\n",
    "After reviewing the site, you can construct a plan for scraping relevant data. Pay attention to the details displayed for each book, including the title, price, rating, and availability. This will help you identify the correct HTML elements to target with your scraping script.\n",
    "\n",
    "Make sure to build your scraping URL and logic based on the patterns you observe in the HTML structure of the book listings!"
   ]
  },
  {
   "cell_type": "markdown",
   "id": "25a83a0d-a742-49f6-985e-e27887cbf922",
   "metadata": {
    "id": "25a83a0d-a742-49f6-985e-e27887cbf922"
   },
   "source": [
    "\n",
    "---\n",
    "\n",
    "**Best of luck! Immerse yourself in the world of books, and may the data be with you!**"
   ]
  },
  {
   "cell_type": "markdown",
   "id": "7b75cf0d-9afa-4eec-a9e2-befeac68b2a0",
   "metadata": {
    "id": "7b75cf0d-9afa-4eec-a9e2-befeac68b2a0"
   },
   "source": [
    "**Important Note**:\n",
    "\n",
    "In the fast-changing online world, websites often update and change their structures. When you try this lab, the **Books to Scrape** website might differ from what you expect.\n",
    "\n",
    "If you encounter issues due to these changes, like new rules or obstacles preventing data extraction, don’t worry! Get creative.\n",
    "\n",
    "You can choose another website that interests you and is suitable for scraping data. Options like Wikipedia, The New York Times, or even library databases are great alternatives. The main goal remains the same: extract useful data and enhance your web scraping skills while exploring a source of information you enjoy. This is your opportunity to practice and adapt to different web environments!"
   ]
  },
  {
   "cell_type": "markdown",
   "id": "6a32a086-23ec-49a5-b453-49b7001836d2",
   "metadata": {},
   "source": [
    "### Task\n",
    "- Ceate a Python script using BeautifulSoup and pandas to scrape Books to Scrape book data\n",
    "- Focus on book ratings and genres\n",
    "- The script should filter books with ratings above a certain threshold and in specific genres. \n",
    "- Additionally, the script should structure the scraped data in a tabular format using pandas for further analysis."
   ]
  },
  {
   "cell_type": "markdown",
   "id": "e9680554-de42-414a-8d64-6bf377acaaf0",
   "metadata": {},
   "source": [
    "**Resources**\n",
    "\n",
    "- [Beautiful Soup Documentation](https://www.crummy.com/software/BeautifulSoup/bs4/doc/)\n",
    "- [Pandas Documentation](https://pandas.pydata.org/pandas-docs/stable/index.html)\n",
    "- [Books to Scrape](https://books.toscrape.com/)"
   ]
  },
  {
   "cell_type": "markdown",
   "id": "0586dd7b-6a37-4c4d-b182-d02c7e155995",
   "metadata": {},
   "source": [
    "Goal:\n",
    "- Create script with Python, Beautifulsoup and pandas\n",
    "- Scrape Book Data\n",
    "- Focus on book ratings and genres\n",
    "- Filter books by rating (above certain threshold)\n",
    "- Filter books by genre\n",
    "- Structure scraped data in a tabular format using pandas"
   ]
  },
  {
   "cell_type": "code",
   "execution_count": null,
   "id": "1f87cbaf-8db9-4c6c-801a-88a05d462222",
   "metadata": {},
   "outputs": [],
   "source": [
    "import requests\n",
    "from bs4 import BeautifulSoup\n",
    "import pandas as pd\n",
    "import re\n",
    "\n",
    "def scrape_books(min_rating=4.0, max_price=20.0):\n",
    "    base_url = 'http://books.toscrape.com/catalogue/page-{}.html'\n",
    "    books_data = []\n",
    "    \n",
    "    for page in range(1, 6): #example range, can be adjusted\n",
    "        url = base_url.format(page)\n",
    "        response = requests.get(url)\n",
    "        soup = BeautifulSoup(response.text, 'html.parser')\n",
    "        \n",
    "        books = soup.find_all('article', class_='product_pod') #find book containers on page\n",
    "        \n",
    "        for book in books:\n",
    "            title = book.h3.a['title']\n",
    "\n",
    "            # price\n",
    "            price_str = book.find('p', class_='price_color').text\n",
    "            price = float(re.sub(r'[^\\d.]+', '', price_str))  # remove all non-numeric characters\n",
    "            \n",
    "            # rating\n",
    "            rating_class = book.find('p', class_='star-rating')['class'][1]\n",
    "            rating_map = {\n",
    "                'One': 1,\n",
    "                'Two': 2,\n",
    "                'Three': 3,\n",
    "                'Four': 4,\n",
    "                'Five': 5\n",
    "            }\n",
    "            rating = rating_map[rating_class]\n",
    "\n",
    "            # availability\n",
    "            availability = book.find('p', class_='instock availability').text.strip()\n",
    "\n",
    "            # book details\n",
    "            detail_page_url = book.h3.a['href']\n",
    "            detail_response = requests.get(f'http://books.toscrape.com/catalogue/{detail_page_url}')\n",
    "            detail_soup = BeautifulSoup(detail_response.text, 'html.parser')\n",
    "            \n",
    "            # genre\n",
    "            genre_element = detail_soup.find('a', href=lambda x: x and 'catalogue/category/books' in x)\n",
    "            genre = genre_element.text if genre_element else 'Unknown'\n",
    "            \n",
    "            # description\n",
    "            description_meta = detail_soup.find('meta', attrs={'name': 'description'})\n",
    "            description = description_meta['content'].strip() if description_meta else 'No Description'  # Default if not found\n",
    "            \n",
    "            # filter by rating and price\n",
    "            if rating >= min_rating and price <= max_price:\n",
    "                books_data.append({\n",
    "                    'UPC': '',  # UPC is not available on the main page\n",
    "                    'Title': title,\n",
    "                    'Price (£)': price,\n",
    "                    'Rating': rating,\n",
    "                    'Genre': genre,\n",
    "                    'Availability': availability,\n",
    "                    'Description': description\n",
    "                })\n",
    "    \n",
    "    # create df from the scraped data\n",
    "    df = pd.DataFrame(books_data)\n",
    "    return df\n",
    "\n",
    "# example\n",
    "if __name__ == \"__main__\":\n",
    "    result_df = scrape_books(min_rating=4.0, max_price=20.0)\n",
    "    print(result_df)\n",
    "\n",
    "\n",
    "result_df.head(25)"
   ]
  },
  {
   "cell_type": "markdown",
   "id": "314b061a-808e-4beb-827f-57e5871fe097",
   "metadata": {},
   "source": [
    "**Expected Outcome**\n",
    "\n",
    "- A function named `scrape_books` that takes two parameters: `min_rating` and `max_price`.\n",
    "- The function should return a DataFrame with the following columns:\n",
    "  - **UPC**: The Universal Product Code (UPC) of the book.\n",
    "  - **Title**: The title of the book.\n",
    "  - **Price (£)**: The price of the book in pounds.\n",
    "  - **Rating**: The rating of the book (1-5 stars).\n",
    "  - **Genre**: The genre of the book.\n",
    "  - **Availability**: Whether the book is in stock or not.\n",
    "  - **Description**: A brief description or product description of the book (if available)."
   ]
  },
  {
   "cell_type": "markdown",
   "id": "da6a9ee7-acaa-4e93-896d-8d39fc979547",
   "metadata": {},
   "source": [
    "Execute this script to scrape data for books with a minimum rating of `4.0 and above` and a maximum price of `£20`. \n",
    "\n",
    "Remember to experiment with different ratings and prices to ensure your code is versatile and can handle various searches effectively!"
   ]
  },
  {
   "cell_type": "code",
   "execution_count": null,
   "id": "28f89bbc-6c51-48f5-a917-a11bec5dfd4f",
   "metadata": {},
   "outputs": [],
   "source": [
    "if __name__ == \"__main__\":\n",
    "    result_df = scrape_books(min_rating=4.0, max_price=20.0)\n",
    "    print(result_df)"
   ]
  },
  {
   "cell_type": "code",
   "execution_count": null,
   "id": "cb304987-5942-4fe4-8200-93738cf6da5e",
   "metadata": {},
   "outputs": [],
   "source": []
  }
 ],
 "metadata": {
  "colab": {
   "provenance": []
  },
  "kernelspec": {
   "display_name": "Python 3 (ipykernel)",
   "language": "python",
   "name": "python3"
  },
  "language_info": {
   "codemirror_mode": {
    "name": "ipython",
    "version": 3
   },
   "file_extension": ".py",
   "mimetype": "text/x-python",
   "name": "python",
   "nbconvert_exporter": "python",
   "pygments_lexer": "ipython3",
   "version": "3.12.2"
  }
 },
 "nbformat": 4,
 "nbformat_minor": 5
}
